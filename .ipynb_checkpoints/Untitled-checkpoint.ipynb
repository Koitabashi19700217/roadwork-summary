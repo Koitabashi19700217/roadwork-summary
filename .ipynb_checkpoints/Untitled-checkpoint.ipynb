{
 "cells": [
  {
   "cell_type": "code",
   "execution_count": 4,
   "id": "e59ebe05-8a39-4280-8cc1-241dab1aebb2",
   "metadata": {
    "execution": {
     "iopub.execute_input": "2025-07-01T12:08:58.637867Z",
     "iopub.status.busy": "2025-07-01T12:08:58.637334Z",
     "iopub.status.idle": "2025-07-01T12:08:58.644296Z",
     "shell.execute_reply": "2025-07-01T12:08:58.643501Z",
     "shell.execute_reply.started": "2025-07-01T12:08:58.637833Z"
    }
   },
   "outputs": [
    {
     "name": "stdout",
     "output_type": "stream",
     "text": [
      "Index(['アクティビティタイプ', 'Date', 'お気に入り', 'タイトル', 'Distance', 'Calories', 'タイム',\n",
      "       '平均心拍数', '最大心拍数', '平均速度', '最高速度', '総上昇量', '総下降量',\n",
      "       'Training Stress Score®', '減圧', 'ベストラップタイム', 'ラップ数', '移動時間', '経過時間',\n",
      "       '最低高度', '最高高度', 'date'],\n",
      "      dtype='object')\n"
     ]
    }
   ],
   "source": [
    "print(df.columns)"
   ]
  },
  {
   "cell_type": "code",
   "execution_count": 1,
   "id": "d0d4914b-32a3-4f1f-9c5c-ea7d77d993c1",
   "metadata": {
    "editable": true,
    "execution": {
     "iopub.execute_input": "2025-07-01T12:03:21.323046Z",
     "iopub.status.busy": "2025-07-01T12:03:21.322199Z",
     "iopub.status.idle": "2025-07-01T12:03:21.464195Z",
     "shell.execute_reply": "2025-07-01T12:03:21.463675Z",
     "shell.execute_reply.started": "2025-07-01T12:03:21.322981Z"
    },
    "slideshow": {
     "slide_type": ""
    },
    "tags": []
   },
   "outputs": [
    {
     "ename": "NameError",
     "evalue": "name 'total_distance' is not defined",
     "output_type": "error",
     "traceback": [
      "\u001b[0;31m---------------------------------------------------------------------------\u001b[0m",
      "\u001b[0;31mNameError\u001b[0m                                 Traceback (most recent call last)",
      "Cell \u001b[0;32mIn[1], line 6\u001b[0m\n\u001b[1;32m      3\u001b[0m time_goal_sec \u001b[38;5;241m=\u001b[39m \u001b[38;5;241m20\u001b[39m \u001b[38;5;241m*\u001b[39m \u001b[38;5;241m3600\u001b[39m  \u001b[38;5;66;03m# 20時間 → 秒\u001b[39;00m\n\u001b[1;32m      5\u001b[0m \u001b[38;5;66;03m# === 達成率計算 ===\u001b[39;00m\n\u001b[0;32m----> 6\u001b[0m distance_achieve \u001b[38;5;241m=\u001b[39m (\u001b[43mtotal_distance\u001b[49m \u001b[38;5;241m/\u001b[39m distance_goal) \u001b[38;5;241m*\u001b[39m \u001b[38;5;241m100\u001b[39m\n\u001b[1;32m      7\u001b[0m time_achieve \u001b[38;5;241m=\u001b[39m (total_time_sec \u001b[38;5;241m/\u001b[39m time_goal_sec) \u001b[38;5;241m*\u001b[39m \u001b[38;5;241m100\u001b[39m\n\u001b[1;32m      9\u001b[0m \u001b[38;5;66;03m# === 結果 ===\u001b[39;00m\n",
      "\u001b[0;31mNameError\u001b[0m: name 'total_distance' is not defined"
     ]
    }
   ],
   "source": [
    "# === 目標値を設定 ===\n",
    "distance_goal = 400  # km\n",
    "time_goal_sec = 20 * 3600  # 20時間 → 秒\n",
    "\n",
    "# === 達成率計算 ===\n",
    "distance_achieve = (total_distance / distance_goal) * 100\n",
    "time_achieve = (total_time_sec / time_goal_sec) * 100\n",
    "\n",
    "# === 結果 ===\n",
    "print(\"=== 🚴 Roadwork 期間限定 集計結果 ===\")\n",
    "print(f\"期間: {start_date} ~ {end_date}\")\n",
    "print(f\"総距離: {total_distance:.2f} km\")\n",
    "print(f\"総時間: {int(hours)}:{int(minutes):02d}:{int(seconds):02d}\")\n",
    "print(f\"総カロリー: {total_calories:.0f} kcal\")\n",
    "print(f\"距離達成率: {distance_achieve:.1f}%\")\n",
    "print(f\"時間達成率: {time_achieve:.1f}%\")"
   ]
  },
  {
   "cell_type": "code",
   "execution_count": 8,
   "id": "d73c8db3-1c07-4989-96e5-74bff9de78e7",
   "metadata": {
    "execution": {
     "iopub.execute_input": "2025-07-01T01:13:51.195393Z",
     "iopub.status.busy": "2025-07-01T01:13:51.193770Z",
     "iopub.status.idle": "2025-07-01T01:13:51.251214Z",
     "shell.execute_reply": "2025-07-01T01:13:51.250856Z",
     "shell.execute_reply.started": "2025-07-01T01:13:51.195289Z"
    }
   },
   "outputs": [
    {
     "name": "stdout",
     "output_type": "stream",
     "text": [
      "✅ 週次集計ファイルを保存しました！\n"
     ]
    }
   ],
   "source": [
    "import pandas as pd\n",
    "\n",
    "# CSV読み込み\n",
    "df = pd.read_csv(\"Activities.csv\")\n",
    "\n",
    "# 日付をdatetime化\n",
    "df['日付'] = pd.to_datetime(df['日付'])\n",
    "\n",
    "# 週番号を追加\n",
    "df['週'] = df['日付'].dt.isocalendar().week\n",
    "\n",
    "# 距離、カロリー、タイム（h:m:s → 秒に変換）を週単位で集計\n",
    "def time_to_seconds(t):\n",
    "    try:\n",
    "        h, m, s = map(int, t.split(':'))\n",
    "        return h*3600 + m*60 + s\n",
    "    except:\n",
    "        return 0\n",
    "\n",
    "df['タイム_sec'] = df['タイム'].apply(time_to_seconds)\n",
    "\n",
    "weekly = df.groupby('週').agg({\n",
    "    '距離': 'sum',\n",
    "    'カロリー': 'sum',\n",
    "    'タイム_sec': 'sum'\n",
    "}).reset_index()\n",
    "\n",
    "# タイムを h:m:s に戻す\n",
    "weekly['合計時間'] = weekly['タイム_sec'].apply(\n",
    "    lambda x: f\"{x//3600}:{(x%3600)//60}:{x%60}\"\n",
    ")\n",
    "\n",
    "# 不要な列を消す\n",
    "weekly = weekly.drop(columns=['タイム_sec'])\n",
    "\n",
    "# 保存\n",
    "weekly.to_excel(\"weekly_summary.xlsx\", index=False)\n",
    "\n",
    "print(\"✅ 週次集計ファイルを保存しました！\")"
   ]
  },
  {
   "cell_type": "code",
   "execution_count": 16,
   "id": "8ae666a3-ff7c-44f4-8b60-bfddad605874",
   "metadata": {
    "execution": {
     "iopub.execute_input": "2025-07-01T12:37:52.005788Z",
     "iopub.status.busy": "2025-07-01T12:37:52.003903Z",
     "iopub.status.idle": "2025-07-01T12:37:52.033215Z",
     "shell.execute_reply": "2025-07-01T12:37:52.032666Z",
     "shell.execute_reply.started": "2025-07-01T12:37:52.005687Z"
    }
   },
   "outputs": [
    {
     "name": "stdout",
     "output_type": "stream",
     "text": [
      "== 🚴 Roadwork 限定 期間集計 ==\n",
      "対象期間: 2025-04-29 〜 2025-07-01\n",
      "総距離: 970.69 km\n",
      "総時間: 45時間 5分 52秒\n",
      "距離達成率: 242.7 %\n",
      "時間達成率: 225.5 %\n",
      "✅ 日別 activity_summary.csv を保存しました！\n"
     ]
    }
   ],
   "source": [
    "import pandas as pd\n",
    "\n",
    "# === ✅ hh:mm:ss → 秒に変換する関数 ===\n",
    "def hms_to_sec(x):\n",
    "    if ':' in str(x):\n",
    "        h, m, s = map(int, x.split(':'))\n",
    "        return h * 3600 + m * 60 + s\n",
    "    else:\n",
    "        return int(x)\n",
    "\n",
    "# === ✅ CSV 読み込み ===\n",
    "df = pd.read_csv(\"Activities.csv\")\n",
    "\n",
    "# === ✅ 列名を英語に揃える ===\n",
    "df.rename(columns={\n",
    "    \"アクティビティタイプ\": \"Activity Type\",\n",
    "    \"日付\": \"Date\",\n",
    "    \"タイム\": \"Time_sec\",\n",
    "    \"カロリー\": \"Calories\",\n",
    "    \"距離\": \"Distance\"\n",
    "}, inplace=True)\n",
    "\n",
    "# === ✅ タイムを秒に直す ===\n",
    "df[\"Time_sec\"] = df[\"Time_sec\"].apply(hms_to_sec)\n",
    "\n",
    "# === ✅ Date列をdatetime化して日だけ抽出 ===\n",
    "df[\"Date\"] = pd.to_datetime(df[\"Date\"])\n",
    "df[\"date\"] = df[\"Date\"].dt.date\n",
    "\n",
    "# === ✅ アクティビティ名を英語に統一 ===\n",
    "df[\"Activity Type\"] = df[\"Activity Type\"].replace({\n",
    "    \"HIIT\": \"Weight Training\",\n",
    "    \"バイク\": \"Roadwork\"\n",
    "})\n",
    "\n",
    "# === ✅ Roadworkのみ抽出してトータル距離/時間 ===\n",
    "roadwork_df = df[df[\"Activity Type\"] == \"Roadwork\"]\n",
    "total_distance = roadwork_df[\"Distance\"].sum()\n",
    "total_time_sec = roadwork_df[\"Time_sec\"].sum()\n",
    "\n",
    "# === ✅ 日別×アクティビティ別 カロリー集計 ===\n",
    "summary = df.groupby([\"date\", \"Activity Type\"])[\"Calories\"].sum().reset_index()\n",
    "\n",
    "# === ✅ 目標設定 ===\n",
    "distance_goal = 400  # km\n",
    "time_goal_sec = 20 * 3600  # 20時間\n",
    "\n",
    "# === ✅ 達成率計算 ===\n",
    "distance_achieve = (total_distance / distance_goal) * 100\n",
    "time_achieve = (total_time_sec / time_goal_sec) * 100\n",
    "\n",
    "# === ✅ 期間 ===\n",
    "start_date = roadwork_df[\"date\"].min()\n",
    "end_date = roadwork_df[\"date\"].max()\n",
    "\n",
    "# === ✅ 時間を見やすく分解 ===\n",
    "hours = total_time_sec // 3600\n",
    "minutes = (total_time_sec % 3600) // 60\n",
    "seconds = total_time_sec % 60\n",
    "\n",
    "# === ✅ 結果表示 ===\n",
    "print(\"== 🚴 Roadwork 限定 期間集計 ==\")\n",
    "print(f\"対象期間: {start_date} 〜 {end_date}\")\n",
    "print(f\"総距離: {total_distance:.2f} km\")\n",
    "print(f\"総時間: {int(hours)}時間 {int(minutes)}分 {int(seconds)}秒\")\n",
    "print(f\"距離達成率: {distance_achieve:.1f} %\")\n",
    "print(f\"時間達成率: {time_achieve:.1f} %\")\n",
    "\n",
    "# === ✅ 日別集計をCSVに保存 ===\n",
    "summary.to_csv(\"activity_summary.csv\", index=False)\n",
    "print(\"✅ 日別 activity_summary.csv を保存しました！\")"
   ]
  },
  {
   "cell_type": "code",
   "execution_count": 17,
   "id": "4b8f06a8-fc45-4623-b453-134b1f4f2ee7",
   "metadata": {
    "editable": true,
    "execution": {
     "iopub.execute_input": "2025-07-01T12:42:09.156925Z",
     "iopub.status.busy": "2025-07-01T12:42:09.155976Z",
     "iopub.status.idle": "2025-07-01T12:42:09.164108Z",
     "shell.execute_reply": "2025-07-01T12:42:09.163030Z",
     "shell.execute_reply.started": "2025-07-01T12:42:09.156849Z"
    },
    "slideshow": {
     "slide_type": ""
    },
    "tags": []
   },
   "outputs": [
    {
     "name": "stdout",
     "output_type": "stream",
     "text": [
      "/Users/koitabashisatoshi/garmin_summary\n"
     ]
    }
   ],
   "source": [
    "import os\n",
    "print(os.getcwd())"
   ]
  },
  {
   "cell_type": "code",
   "execution_count": 18,
   "id": "2414d449-7571-4364-8305-5ae52a1e5432",
   "metadata": {
    "execution": {
     "iopub.execute_input": "2025-07-01T12:47:45.503431Z",
     "iopub.status.busy": "2025-07-01T12:47:45.502563Z",
     "iopub.status.idle": "2025-07-01T12:47:45.534736Z",
     "shell.execute_reply": "2025-07-01T12:47:45.534252Z",
     "shell.execute_reply.started": "2025-07-01T12:47:45.503367Z"
    }
   },
   "outputs": [
    {
     "name": "stdout",
     "output_type": "stream",
     "text": [
      "== 🚴 Roadwork 今月限定 集計 ==\n",
      "対象期間: 2025-07-01 〜 2025-07-01\n",
      "総距離: 18.81 km\n",
      "総時間: 0時間 49分 41秒\n",
      "距離達成率: 4.7 %\n",
      "時間達成率: 4.1 %\n",
      "✅ 今月の Roadwork 詳細 CSV を保存しました！\n"
     ]
    }
   ],
   "source": [
    "import pandas as pd\n",
    "import datetime\n",
    "\n",
    "# === ✅ hh:mm:ss → 秒に変換する関数 ===\n",
    "def hms_to_sec(x):\n",
    "    if ':' in str(x):\n",
    "        h, m, s = map(int, x.split(':'))\n",
    "        return h * 3600 + m * 60 + s\n",
    "    else:\n",
    "        return int(x)\n",
    "\n",
    "# === ✅ CSV 読み込み ===\n",
    "df = pd.read_csv(\"Activities.csv\")\n",
    "\n",
    "# === ✅ 列名を英語に揃える ===\n",
    "df.rename(columns={\n",
    "    \"アクティビティタイプ\": \"Activity Type\",\n",
    "    \"日付\": \"Date\",\n",
    "    \"タイム\": \"Time_sec\",\n",
    "    \"カロリー\": \"Calories\",\n",
    "    \"距離\": \"Distance\"\n",
    "}, inplace=True)\n",
    "\n",
    "# === ✅ タイムを秒に変換 ===\n",
    "df[\"Time_sec\"] = df[\"Time_sec\"].apply(hms_to_sec)\n",
    "\n",
    "# === ✅ Date を datetime化し、date列作る ===\n",
    "df[\"Date\"] = pd.to_datetime(df[\"Date\"])\n",
    "df[\"date\"] = df[\"Date\"].dt.date\n",
    "\n",
    "# === ✅ アクティビティ名を統一 ===\n",
    "df[\"Activity Type\"] = df[\"Activity Type\"].replace({\n",
    "    \"HIIT\": \"Weight Training\",\n",
    "    \"バイク\": \"Roadwork\"\n",
    "})\n",
    "\n",
    "# === ✅ 今月の開始日と終了日 ===\n",
    "today = datetime.date.today()\n",
    "first_day = today.replace(day=1)\n",
    "last_day = today\n",
    "\n",
    "# === ✅ 今月の Roadwork だけ抽出 ===\n",
    "roadwork_month_df = df[\n",
    "    (df[\"Activity Type\"] == \"Roadwork\") &\n",
    "    (df[\"Date\"].dt.date >= first_day) &\n",
    "    (df[\"Date\"].dt.date <= last_day)\n",
    "]\n",
    "\n",
    "# === ✅ 今月の Roadwork 距離・時間 ===\n",
    "total_distance = roadwork_month_df[\"Distance\"].sum()\n",
    "total_time_sec = roadwork_month_df[\"Time_sec\"].sum()\n",
    "\n",
    "# === ✅ 達成率計算 ===\n",
    "distance_goal = 400  # km\n",
    "time_goal_sec = 20 * 3600  # 20時間\n",
    "\n",
    "distance_achieve = (total_distance / distance_goal) * 100\n",
    "time_achieve = (total_time_sec / time_goal_sec) * 100\n",
    "\n",
    "# === ✅ 時間を分解 ===\n",
    "hours = total_time_sec // 3600\n",
    "minutes = (total_time_sec % 3600) // 60\n",
    "seconds = total_time_sec % 60\n",
    "\n",
    "# === ✅ 結果表示 ===\n",
    "print(\"== 🚴 Roadwork 今月限定 集計 ==\")\n",
    "print(f\"対象期間: {first_day} 〜 {last_day}\")\n",
    "print(f\"総距離: {total_distance:.2f} km\")\n",
    "print(f\"総時間: {int(hours)}時間 {int(minutes)}分 {int(seconds)}秒\")\n",
    "print(f\"距離達成率: {distance_achieve:.1f} %\")\n",
    "print(f\"時間達成率: {time_achieve:.1f} %\")\n",
    "\n",
    "# === ✅ 必要なら CSV 出力（おまけ）===\n",
    "roadwork_month_df.to_csv(\"roadwork_month_summary.csv\", index=False)\n",
    "print(\"✅ 今月の Roadwork 詳細 CSV を保存しました！\")"
   ]
  },
  {
   "cell_type": "code",
   "execution_count": null,
   "id": "d0121d5e-cff3-404f-affd-5771ee4fc176",
   "metadata": {},
   "outputs": [],
   "source": []
  }
 ],
 "metadata": {
  "kernelspec": {
   "display_name": "Python (koitabashi01)",
   "language": "python",
   "name": "koitabashi01"
  },
  "language_info": {
   "codemirror_mode": {
    "name": "ipython",
    "version": 3
   },
   "file_extension": ".py",
   "mimetype": "text/x-python",
   "name": "python",
   "nbconvert_exporter": "python",
   "pygments_lexer": "ipython3",
   "version": "3.10.16"
  }
 },
 "nbformat": 4,
 "nbformat_minor": 5
}
